{
 "cells": [
  {
   "cell_type": "markdown",
   "id": "75f183d6",
   "metadata": {},
   "source": [
    "#SMS Spam Classification\n",
    "\n",
    "\n",
    "This project is a Python implementation of an sms spam classification system. The goal is to build a model that can accurately classify emails as either spam or not spam.The project uses the scikit-learn library to train and evaluate the model."
   ]
  },
  {
   "cell_type": "markdown",
   "id": "d069f47a",
   "metadata": {},
   "source": [
    "\n",
    "#Import libraries"
   ]
  },
  {
   "cell_type": "code",
   "execution_count": 1,
   "id": "e83363bd",
   "metadata": {},
   "outputs": [],
   "source": [
    "import matplotlib.pyplot as plt\n",
    "import pandas as pd\n",
    "import seaborn as sns\n",
    "\n",
    "from sklearn.feature_extraction.text import CountVectorizer, TfidfVectorizer\n",
    "from sklearn.model_selection import train_test_split\n",
    "from sklearn.naive_bayes import GaussianNB\n",
    "from sklearn.neighbors import KNeighborsClassifier\n",
    "from sklearn.pipeline import Pipeline\n",
    "from sklearn.metrics import accuracy_score, classification_report, confusion_matrix, ConfusionMatrixDisplay"
   ]
  },
  {
   "cell_type": "markdown",
   "id": "02e57e76",
   "metadata": {},
   "source": [
    "\n",
    "#Load the dataset"
   ]
  },
  {
   "cell_type": "code",
   "execution_count": 2,
   "id": "285cdf44",
   "metadata": {},
   "outputs": [
    {
     "data": {
      "text/html": [
       "<div>\n",
       "<style scoped>\n",
       "    .dataframe tbody tr th:only-of-type {\n",
       "        vertical-align: middle;\n",
       "    }\n",
       "\n",
       "    .dataframe tbody tr th {\n",
       "        vertical-align: top;\n",
       "    }\n",
       "\n",
       "    .dataframe thead th {\n",
       "        text-align: right;\n",
       "    }\n",
       "</style>\n",
       "<table border=\"1\" class=\"dataframe\">\n",
       "  <thead>\n",
       "    <tr style=\"text-align: right;\">\n",
       "      <th></th>\n",
       "      <th>v1</th>\n",
       "      <th>v2</th>\n",
       "    </tr>\n",
       "  </thead>\n",
       "  <tbody>\n",
       "    <tr>\n",
       "      <th>0</th>\n",
       "      <td>ham</td>\n",
       "      <td>Go until jurong point, crazy.. Available only ...</td>\n",
       "    </tr>\n",
       "    <tr>\n",
       "      <th>1</th>\n",
       "      <td>ham</td>\n",
       "      <td>Ok lar... Joking wif u oni...</td>\n",
       "    </tr>\n",
       "    <tr>\n",
       "      <th>2</th>\n",
       "      <td>spam</td>\n",
       "      <td>Free entry in 2 a wkly comp to win FA Cup fina...</td>\n",
       "    </tr>\n",
       "    <tr>\n",
       "      <th>3</th>\n",
       "      <td>ham</td>\n",
       "      <td>U dun say so early hor... U c already then say...</td>\n",
       "    </tr>\n",
       "    <tr>\n",
       "      <th>4</th>\n",
       "      <td>ham</td>\n",
       "      <td>Nah I don't think he goes to usf, he lives aro...</td>\n",
       "    </tr>\n",
       "  </tbody>\n",
       "</table>\n",
       "</div>"
      ],
      "text/plain": [
       "     v1                                                 v2\n",
       "0   ham  Go until jurong point, crazy.. Available only ...\n",
       "1   ham                      Ok lar... Joking wif u oni...\n",
       "2  spam  Free entry in 2 a wkly comp to win FA Cup fina...\n",
       "3   ham  U dun say so early hor... U c already then say...\n",
       "4   ham  Nah I don't think he goes to usf, he lives aro..."
      ]
     },
     "execution_count": 2,
     "metadata": {},
     "output_type": "execute_result"
    }
   ],
   "source": [
    "df = pd.read_csv(\"spam.csv\")\n",
    "df.head()"
   ]
  },
  {
   "cell_type": "markdown",
   "id": "81a45f86",
   "metadata": {},
   "source": [
    "\n",
    "#Split the data into train and test set"
   ]
  },
  {
   "cell_type": "code",
   "execution_count": 3,
   "id": "6348eac4",
   "metadata": {},
   "outputs": [],
   "source": [
    "X = df.iloc[:, 1:2]\n",
    "y = df.iloc[:, 0:1]"
   ]
  },
  {
   "cell_type": "markdown",
   "id": "4768beab",
   "metadata": {},
   "source": [
    "\n",
    "#Visualize the class distribution"
   ]
  },
  {
   "cell_type": "code",
   "execution_count": 4,
   "id": "eb0e9467",
   "metadata": {},
   "outputs": [
    {
     "data": {
      "image/png": "[encoded data removed]",
      "text/plain": [
       "<Figure size 504x360 with 1 Axes>"
      ]
     },
     "metadata": {
      "needs_background": "light"
     },
     "output_type": "display_data"
    }
   ],
   "source": [
    "fig, ax = plt.subplots(figsize=(7, 5))\n",
    "sns.countplot(x=\"v1\", data=df)\n",
    "   \n",
    "for p in ax.patches:\n",
    "    percentage = '{:.1f}%'.format(100 * p.get_height()/len(X))\n",
    "    x_countplot = p.get_x() + p.get_width()/2\n",
    "    y_countplot = p.get_height()+ 50\n",
    "    ax.annotate(percentage, (x_countplot, y_countplot), ha='center')\n",
    "plt.show()"
   ]
  },
  {
   "cell_type": "markdown",
   "id": "9eeffee2",
   "metadata": {},
   "source": [
    "\n",
    "#We can see that there's huge differences in class distribution, where the majority of data is ham (86.6%) and only 13.4% are spam"
   ]
  },
  {
   "cell_type": "code",
   "execution_count": 5,
   "id": "e726a955",
   "metadata": {},
   "outputs": [
    {
     "name": "stderr",
     "output_type": "stream",
     "text": [
      "[nltk_data] Downloading package punkt to\n",
      "[nltk_data]     C:\\Users\\charu\\AppData\\Roaming\\nltk_data...\n",
      "[nltk_data]   Unzipping tokenizers\\punkt.zip.\n"
     ]
    },
    {
     "data": {
      "text/plain": [
       "True"
      ]
     },
     "execution_count": 5,
     "metadata": {},
     "output_type": "execute_result"
    }
   ],
   "source": [
    "import nltk\n",
    "nltk.download('punkt')"
   ]
  },
  {
   "cell_type": "code",
   "execution_count": 7,
   "id": "b04b79b9",
   "metadata": {},
   "outputs": [
    {
     "data": {
      "text/html": [
       "<div>\n",
       "<style scoped>\n",
       "    .dataframe tbody tr th:only-of-type {\n",
       "        vertical-align: middle;\n",
       "    }\n",
       "\n",
       "    .dataframe tbody tr th {\n",
       "        vertical-align: top;\n",
       "    }\n",
       "\n",
       "    .dataframe thead th {\n",
       "        text-align: right;\n",
       "    }\n",
       "</style>\n",
       "<table border=\"1\" class=\"dataframe\">\n",
       "  <thead>\n",
       "    <tr style=\"text-align: right;\">\n",
       "      <th></th>\n",
       "      <th>v1</th>\n",
       "      <th>v2</th>\n",
       "      <th>num_characters</th>\n",
       "    </tr>\n",
       "  </thead>\n",
       "  <tbody>\n",
       "    <tr>\n",
       "      <th>0</th>\n",
       "      <td>ham</td>\n",
       "      <td>Go until jurong point, crazy.. Available only ...</td>\n",
       "      <td>3</td>\n",
       "    </tr>\n",
       "    <tr>\n",
       "      <th>1</th>\n",
       "      <td>ham</td>\n",
       "      <td>Ok lar... Joking wif u oni...</td>\n",
       "      <td>3</td>\n",
       "    </tr>\n",
       "    <tr>\n",
       "      <th>2</th>\n",
       "      <td>spam</td>\n",
       "      <td>Free entry in 2 a wkly comp to win FA Cup fina...</td>\n",
       "      <td>4</td>\n",
       "    </tr>\n",
       "    <tr>\n",
       "      <th>3</th>\n",
       "      <td>ham</td>\n",
       "      <td>U dun say so early hor... U c already then say...</td>\n",
       "      <td>3</td>\n",
       "    </tr>\n",
       "    <tr>\n",
       "      <th>4</th>\n",
       "      <td>ham</td>\n",
       "      <td>Nah I don't think he goes to usf, he lives aro...</td>\n",
       "      <td>3</td>\n",
       "    </tr>\n",
       "  </tbody>\n",
       "</table>\n",
       "</div>"
      ],
      "text/plain": [
       "     v1                                                 v2  num_characters\n",
       "0   ham  Go until jurong point, crazy.. Available only ...               3\n",
       "1   ham                      Ok lar... Joking wif u oni...               3\n",
       "2  spam  Free entry in 2 a wkly comp to win FA Cup fina...               4\n",
       "3   ham  U dun say so early hor... U c already then say...               3\n",
       "4   ham  Nah I don't think he goes to usf, he lives aro...               3"
      ]
     },
     "execution_count": 7,
     "metadata": {},
     "output_type": "execute_result"
    }
   ],
   "source": [
    "df['num_characters']=df['v1'].apply(len)\n",
    "df.head()"
   ]
  },
  {
   "cell_type": "code",
   "execution_count": 8,
   "id": "94aa9be1",
   "metadata": {},
   "outputs": [
    {
     "data": {
      "text/plain": [
       "0        [ham]\n",
       "1        [ham]\n",
       "2       [spam]\n",
       "3        [ham]\n",
       "4        [ham]\n",
       "         ...  \n",
       "5567    [spam]\n",
       "5568     [ham]\n",
       "5569     [ham]\n",
       "5570     [ham]\n",
       "5571     [ham]\n",
       "Name: v1, Length: 5572, dtype: object"
      ]
     },
     "execution_count": 8,
     "metadata": {},
     "output_type": "execute_result"
    }
   ],
   "source": [
    "from nltk.tokenize import word_tokenize\n",
    "df['v1'].apply(lambda x: nltk.word_tokenize(x))"
   ]
  },
  {
   "cell_type": "markdown",
   "id": "e7c4e7e2",
   "metadata": {},
   "source": [
    "#For a number of words and sentence "
   ]
  },
  {
   "cell_type": "code",
   "execution_count": 9,
   "id": "8b85f285",
   "metadata": {},
   "outputs": [
    {
     "data": {
      "text/html": [
       "<div>\n",
       "<style scoped>\n",
       "    .dataframe tbody tr th:only-of-type {\n",
       "        vertical-align: middle;\n",
       "    }\n",
       "\n",
       "    .dataframe tbody tr th {\n",
       "        vertical-align: top;\n",
       "    }\n",
       "\n",
       "    .dataframe thead th {\n",
       "        text-align: right;\n",
       "    }\n",
       "</style>\n",
       "<table border=\"1\" class=\"dataframe\">\n",
       "  <thead>\n",
       "    <tr style=\"text-align: right;\">\n",
       "      <th></th>\n",
       "      <th>v1</th>\n",
       "      <th>v2</th>\n",
       "      <th>num_characters</th>\n",
       "      <th>num_words</th>\n",
       "    </tr>\n",
       "  </thead>\n",
       "  <tbody>\n",
       "    <tr>\n",
       "      <th>1765</th>\n",
       "      <td>ham</td>\n",
       "      <td>Hi this is yijue... It's regarding the 3230 te...</td>\n",
       "      <td>3</td>\n",
       "      <td>1</td>\n",
       "    </tr>\n",
       "    <tr>\n",
       "      <th>831</th>\n",
       "      <td>ham</td>\n",
       "      <td>Hi mate its RV did u hav a nice hol just a mes...</td>\n",
       "      <td>3</td>\n",
       "      <td>1</td>\n",
       "    </tr>\n",
       "    <tr>\n",
       "      <th>4199</th>\n",
       "      <td>ham</td>\n",
       "      <td>I will come tomorrow di</td>\n",
       "      <td>3</td>\n",
       "      <td>1</td>\n",
       "    </tr>\n",
       "    <tr>\n",
       "      <th>2384</th>\n",
       "      <td>ham</td>\n",
       "      <td>Sorry, I'll call later</td>\n",
       "      <td>3</td>\n",
       "      <td>1</td>\n",
       "    </tr>\n",
       "    <tr>\n",
       "      <th>4816</th>\n",
       "      <td>ham</td>\n",
       "      <td>Me too. Mark is taking forever to pick up my p...</td>\n",
       "      <td>3</td>\n",
       "      <td>1</td>\n",
       "    </tr>\n",
       "  </tbody>\n",
       "</table>\n",
       "</div>"
      ],
      "text/plain": [
       "       v1                                                 v2  num_characters  \\\n",
       "1765  ham  Hi this is yijue... It's regarding the 3230 te...               3   \n",
       "831   ham  Hi mate its RV did u hav a nice hol just a mes...               3   \n",
       "4199  ham                            I will come tomorrow di               3   \n",
       "2384  ham                             Sorry, I'll call later               3   \n",
       "4816  ham  Me too. Mark is taking forever to pick up my p...               3   \n",
       "\n",
       "      num_words  \n",
       "1765          1  \n",
       "831           1  \n",
       "4199          1  \n",
       "2384          1  \n",
       "4816          1  "
      ]
     },
     "execution_count": 9,
     "metadata": {},
     "output_type": "execute_result"
    }
   ],
   "source": [
    "df['num_words']=df['v1'].apply(lambda x:len(nltk.word_tokenize(x)))\n",
    "df.sample(5)"
   ]
  },
  {
   "cell_type": "code",
   "execution_count": 11,
   "id": "3b723e01",
   "metadata": {},
   "outputs": [
    {
     "data": {
      "text/html": [
       "<div>\n",
       "<style scoped>\n",
       "    .dataframe tbody tr th:only-of-type {\n",
       "        vertical-align: middle;\n",
       "    }\n",
       "\n",
       "    .dataframe tbody tr th {\n",
       "        vertical-align: top;\n",
       "    }\n",
       "\n",
       "    .dataframe thead th {\n",
       "        text-align: right;\n",
       "    }\n",
       "</style>\n",
       "<table border=\"1\" class=\"dataframe\">\n",
       "  <thead>\n",
       "    <tr style=\"text-align: right;\">\n",
       "      <th></th>\n",
       "      <th>v1</th>\n",
       "      <th>v2</th>\n",
       "      <th>num_characters</th>\n",
       "      <th>num_words</th>\n",
       "      <th>num_sentences</th>\n",
       "    </tr>\n",
       "  </thead>\n",
       "  <tbody>\n",
       "    <tr>\n",
       "      <th>1374</th>\n",
       "      <td>spam</td>\n",
       "      <td>500 New Mobiles from 2004, MUST GO! Txt: NOKIA...</td>\n",
       "      <td>4</td>\n",
       "      <td>1</td>\n",
       "      <td>1</td>\n",
       "    </tr>\n",
       "    <tr>\n",
       "      <th>3458</th>\n",
       "      <td>spam</td>\n",
       "      <td>Not heard from U4 a while. Call me now am here...</td>\n",
       "      <td>4</td>\n",
       "      <td>1</td>\n",
       "      <td>1</td>\n",
       "    </tr>\n",
       "    <tr>\n",
       "      <th>238</th>\n",
       "      <td>ham</td>\n",
       "      <td>New Theory: Argument wins d SITUATION, but los...</td>\n",
       "      <td>3</td>\n",
       "      <td>1</td>\n",
       "      <td>1</td>\n",
       "    </tr>\n",
       "    <tr>\n",
       "      <th>3331</th>\n",
       "      <td>ham</td>\n",
       "      <td>Ok... The theory test? when are Ì_ going to bo...</td>\n",
       "      <td>3</td>\n",
       "      <td>1</td>\n",
       "      <td>1</td>\n",
       "    </tr>\n",
       "    <tr>\n",
       "      <th>2415</th>\n",
       "      <td>ham</td>\n",
       "      <td>Huh means computational science... Y they like...</td>\n",
       "      <td>3</td>\n",
       "      <td>1</td>\n",
       "      <td>1</td>\n",
       "    </tr>\n",
       "  </tbody>\n",
       "</table>\n",
       "</div>"
      ],
      "text/plain": [
       "        v1                                                 v2  num_characters  \\\n",
       "1374  spam  500 New Mobiles from 2004, MUST GO! Txt: NOKIA...               4   \n",
       "3458  spam  Not heard from U4 a while. Call me now am here...               4   \n",
       "238    ham  New Theory: Argument wins d SITUATION, but los...               3   \n",
       "3331   ham  Ok... The theory test? when are Ì_ going to bo...               3   \n",
       "2415   ham  Huh means computational science... Y they like...               3   \n",
       "\n",
       "      num_words  num_sentences  \n",
       "1374          1              1  \n",
       "3458          1              1  \n",
       "238           1              1  \n",
       "3331          1              1  \n",
       "2415          1              1  "
      ]
     },
     "execution_count": 11,
     "metadata": {},
     "output_type": "execute_result"
    }
   ],
   "source": [
    "df['num_sentences']=df['v1'].apply(lambda x: len(nltk.sent_tokenize(x)))\n",
    "df.sample(5)"
   ]
  },
  {
   "cell_type": "markdown",
   "id": "e4623485",
   "metadata": {},
   "source": [
    "#Split the training and testing set"
   ]
  },
  {
   "cell_type": "code",
   "execution_count": 18,
   "id": "5937e69f",
   "metadata": {},
   "outputs": [],
   "source": [
    "X_train, X_test, y_train, y_test = train_test_split(\n",
    "    X.values.ravel(), \n",
    "    y.values.ravel(), \n",
    "    test_size=0.20, \n",
    "    random_state=42)"
   ]
  },
  {
   "cell_type": "markdown",
   "id": "c7751250",
   "metadata": {},
   "source": [
    "#Feature Extraction"
   ]
  },
  {
   "cell_type": "code",
   "execution_count": 19,
   "id": "987f38d3",
   "metadata": {},
   "outputs": [],
   "source": [
    "count_vectorizer = CountVectorizer()\n",
    "tfidf_vectorizer = TfidfVectorizer()"
   ]
  },
  {
   "cell_type": "markdown",
   "id": "c4ded09a",
   "metadata": {},
   "source": [
    "#Model Training\n",
    "\n",
    "Create the pipeline using Count Vectorizer"
   ]
  },
  {
   "cell_type": "code",
   "execution_count": 20,
   "id": "62b0016a",
   "metadata": {},
   "outputs": [
    {
     "data": {
      "text/plain": [
       "Pipeline(steps=[('vectorizer', CountVectorizer()),\n",
       "                ('classifier', KNeighborsClassifier())])"
      ]
     },
     "execution_count": 20,
     "metadata": {},
     "output_type": "execute_result"
    }
   ],
   "source": [
    "clf_method = KNeighborsClassifier()\n",
    "\n",
    "clf_count_vectorizer = Pipeline([\n",
    "     ('vectorizer', count_vectorizer),\n",
    "     ('classifier', clf_method)\n",
    " ])\n",
    "\n",
    "clf_count_vectorizer.fit(X_train, y_train)"
   ]
  },
  {
   "cell_type": "code",
   "execution_count": 21,
   "id": "9a5ef7f1",
   "metadata": {},
   "outputs": [
    {
     "data": {
      "text/plain": [
       "Pipeline(steps=[('vectorizer', TfidfVectorizer()),\n",
       "                ('classifier', KNeighborsClassifier())])"
      ]
     },
     "execution_count": 21,
     "metadata": {},
     "output_type": "execute_result"
    }
   ],
   "source": [
    "clf_tfidf_vectorizer = Pipeline([\n",
    "     ('vectorizer', tfidf_vectorizer),\n",
    "     ('classifier', clf_method)\n",
    " ])\n",
    "\n",
    "clf_tfidf_vectorizer.fit(X_train, y_train)"
   ]
  },
  {
   "cell_type": "code",
   "execution_count": 22,
   "id": "dba63c51",
   "metadata": {},
   "outputs": [
    {
     "name": "stdout",
     "output_type": "stream",
     "text": [
      "Train Accuracy using Count Vectorizer: 0.973\n",
      "Train Accuracy using TF-IDF Vectorizer: 0.920\n"
     ]
    }
   ],
   "source": [
    "y_train_pred_cvect = clf_count_vectorizer.predict(X_train)\n",
    "y_train_pred_tfidf_vect = clf_tfidf_vectorizer.predict(X_train)\n",
    "\n",
    "print(f\"Train Accuracy using Count Vectorizer: {accuracy_score(y_train, y_train_pred_cvect):.3f}\")\n",
    "print(f\"Train Accuracy using TF-IDF Vectorizer: {accuracy_score(y_train, y_train_pred_tfidf_vect):.3f}\")"
   ]
  },
  {
   "cell_type": "code",
   "execution_count": 23,
   "id": "6e177726",
   "metadata": {},
   "outputs": [
    {
     "name": "stdout",
     "output_type": "stream",
     "text": [
      "              precision    recall  f1-score   support\n",
      "\n",
      "         ham       0.97      1.00      0.98      3860\n",
      "        spam       0.99      0.81      0.89       597\n",
      "\n",
      "    accuracy                           0.97      4457\n",
      "   macro avg       0.98      0.90      0.94      4457\n",
      "weighted avg       0.97      0.97      0.97      4457\n",
      "\n"
     ]
    }
   ],
   "source": [
    "print(classification_report(y_train, y_train_pred_cvect))"
   ]
  },
  {
   "cell_type": "code",
   "execution_count": 24,
   "id": "adb7381a",
   "metadata": {},
   "outputs": [
    {
     "name": "stdout",
     "output_type": "stream",
     "text": [
      "              precision    recall  f1-score   support\n",
      "\n",
      "         ham       0.92      1.00      0.96      3860\n",
      "        spam       1.00      0.41      0.58       597\n",
      "\n",
      "    accuracy                           0.92      4457\n",
      "   macro avg       0.96      0.70      0.77      4457\n",
      "weighted avg       0.93      0.92      0.91      4457\n",
      "\n"
     ]
    }
   ],
   "source": [
    "print(classification_report(y_train, y_train_pred_tfidf_vect))"
   ]
  },
  {
   "cell_type": "markdown",
   "id": "3a8bd45c",
   "metadata": {},
   "source": [
    "#Model Evaluation"
   ]
  },
  {
   "cell_type": "code",
   "execution_count": 25,
   "id": "079cc219",
   "metadata": {},
   "outputs": [
    {
     "name": "stdout",
     "output_type": "stream",
     "text": [
      "Test Accuracy using Count Vectorizer: 0.968\n",
      "Test Accuracy using TF-IDF Vectorizer: 0.916\n"
     ]
    }
   ],
   "source": [
    "y_test_pred_cvect = clf_count_vectorizer.predict(X_test)\n",
    "y_test_pred_tfidf_vect = clf_tfidf_vectorizer.predict(X_test)\n",
    "\n",
    "print(f\"Test Accuracy using Count Vectorizer: {accuracy_score(y_test, y_test_pred_cvect):.3f}\")\n",
    "print(f\"Test Accuracy using TF-IDF Vectorizer: {accuracy_score(y_test, y_test_pred_tfidf_vect):.3f}\")"
   ]
  },
  {
   "cell_type": "code",
   "execution_count": 26,
   "id": "63d9c5ed",
   "metadata": {},
   "outputs": [
    {
     "name": "stdout",
     "output_type": "stream",
     "text": [
      "              precision    recall  f1-score   support\n",
      "\n",
      "         ham       0.97      1.00      0.98       965\n",
      "        spam       0.97      0.78      0.87       150\n",
      "\n",
      "    accuracy                           0.97      1115\n",
      "   macro avg       0.97      0.89      0.92      1115\n",
      "weighted avg       0.97      0.97      0.97      1115\n",
      "\n"
     ]
    }
   ],
   "source": [
    "print(classification_report(y_test, y_test_pred_cvect))"
   ]
  },
  {
   "cell_type": "code",
   "execution_count": 27,
   "id": "0a64b145",
   "metadata": {},
   "outputs": [
    {
     "name": "stdout",
     "output_type": "stream",
     "text": [
      "              precision    recall  f1-score   support\n",
      "\n",
      "         ham       0.91      1.00      0.95       965\n",
      "        spam       1.00      0.37      0.54       150\n",
      "\n",
      "    accuracy                           0.92      1115\n",
      "   macro avg       0.96      0.69      0.75      1115\n",
      "weighted avg       0.92      0.92      0.90      1115\n",
      "\n"
     ]
    }
   ],
   "source": [
    "print(classification_report(y_test, y_test_pred_tfidf_vect))"
   ]
  },
  {
   "cell_type": "code",
   "execution_count": 28,
   "id": "ce0e7d20",
   "metadata": {},
   "outputs": [
    {
     "data": {
      "image/png": "[encoded data removed]",
      "text/plain": [
       "<Figure size 360x360 with 1 Axes>"
      ]
     },
     "metadata": {
      "needs_background": "light"
     },
     "output_type": "display_data"
    }
   ],
   "source": [
    "conf_mat_train = ConfusionMatrixDisplay(confusion_matrix(y_test, y_test_pred_cvect))\n",
    "\n",
    "fig, ax = plt.subplots(figsize=(5, 5))\n",
    "ax.set_title('Testing Set')\n",
    "conf_mat_train.plot(cmap=plt.cm.Blues, ax=ax, colorbar=False);"
   ]
  },
  {
   "cell_type": "markdown",
   "id": "6003175f",
   "metadata": {},
   "source": [
    "The CountVectorizer with KNN classifier notably outperforms TF-IDF Vectorizer with KNN in accuracy. With 86.6% 'ham' and 13.4% 'spam' data distribution, CountVectorizer achieves 97.3% and 96.8% accuracy on training and test sets respectively, surpassing TF-IDF Vectorizer's 92.0% and 91.6%. "
   ]
  }
 ],
 "metadata": {
  "kernelspec": {
   "display_name": "Python 3 (ipykernel)",
   "language": "python",
   "name": "python3"
  },
  "language_info": {
   "codemirror_mode": {
    "name": "ipython",
    "version": 3
   },
   "file_extension": ".py",
   "mimetype": "text/x-python",
   "name": "python",
   "nbconvert_exporter": "python",
   "pygments_lexer": "ipython3",
   "version": "3.9.12"
  }
 },
 "nbformat": 4,
 "nbformat_minor": 5
}
